{
 "cells": [
  {
   "cell_type": "code",
   "execution_count": 1,
   "metadata": {},
   "outputs": [],
   "source": [
    "from utils_prediction.database import (gbq_connect, gbq_query)\n",
    "from utils_prediction.dataloader.mimic4 import dataloader\n",
    "from utils_prediction.preprocessor import (fill_missing,discretizer,binary_discretizer,one_hot_encoder,prune_features)\n",
    "\n",
    "from sklearn.pipeline import Pipeline\n",
    "from sklearn.ensemble import RandomForestClassifier as rf\n",
    "from sklearn.metrics import roc_auc_score, plot_confusion_matrix\n",
    "\n",
    "import os\n",
    "import pyarrow as pa\n",
    "import pyarrow.parquet as pq\n",
    "import matplotlib.pyplot as plt"
   ]
  },
  {
   "cell_type": "markdown",
   "metadata": {},
   "source": [
    "#### 1. Get example features from GBQ and save to disk"
   ]
  },
  {
   "cell_type": "code",
   "execution_count": 2,
   "metadata": {},
   "outputs": [
    {
     "name": "stdout",
     "output_type": "stream",
     "text": [
      "Google Big Query Connection Established\n"
     ]
    }
   ],
   "source": [
    "## Establish connection with GBQ\n",
    "c = gbq_connect(\n",
    "    service_account_json_path = '/hpf/projects/lsung/creds/gbq/mimic.json', # change to your service account auth\n",
    "    project_id = 'mimic-iv-ches'\n",
    "    )\n",
    "\n",
    "## Grab example data\n",
    "df = gbq_query(c, \"\"\"\n",
    "    select * from `mimic-iv-ches.demo.mimic4_slice`\n",
    "    \"\"\", verbose = False)\n",
    "\n",
    "## Save to disk\n",
    "path = 'data/analysis_id=demo'\n",
    "\n",
    "if not os.path.exists(path): os.makedirs(path)\n",
    "\n",
    "pq.write_table(\n",
    "    pa.Table.from_pandas(df),\n",
    "    f\"{path}/features.parquet\"\n",
    "    )"
   ]
  },
  {
   "cell_type": "markdown",
   "metadata": {},
   "source": [
    "### 2. Dataloader"
   ]
  },
  {
   "cell_type": "markdown",
   "metadata": {},
   "source": [
    "#### 2.1 Load Features\n",
    "- dataloader class creates datasets from extracted features, performs splitting, and saves the split datasets as separate parquet files. "
   ]
  },
  {
   "cell_type": "code",
   "execution_count": 3,
   "metadata": {},
   "outputs": [],
   "source": [
    "data = dataloader(\n",
    "    analysis_id = 'demo',\n",
    "    features_fpath = 'data'\n",
    "    ).load_features()"
   ]
  },
  {
   "cell_type": "code",
   "execution_count": 4,
   "metadata": {},
   "outputs": [],
   "source": [
    "#data.features.head(3)"
   ]
  },
  {
   "cell_type": "markdown",
   "metadata": {},
   "source": [
    "#### 2.2 Split Features\n",
    "- Splits features into datasets (train, validation, test) based on p_splits (default: 0.7, 0.15, 0.15)\n",
    "- After splitting, dataloader class will have new attributes: X_train, X_val, X_test, y_train, y_val, y_test\n",
    "- features attribute will be removed post splitting by default (set remove_original to False if want to keep)"
   ]
  },
  {
   "cell_type": "code",
   "execution_count": 5,
   "metadata": {},
   "outputs": [],
   "source": [
    "data = data.split()"
   ]
  },
  {
   "cell_type": "code",
   "execution_count": 6,
   "metadata": {},
   "outputs": [
    {
     "name": "stdout",
     "output_type": "stream",
     "text": [
      "number of training samples: 1400\n",
      "number of validation samples: 300\n",
      "number of test samples: 300\n"
     ]
    }
   ],
   "source": [
    "print(f\"number of training samples: {len(data.y_train)}\")\n",
    "print(f\"number of validation samples: {len(data.y_val)}\")\n",
    "print(f\"number of test samples: {len(data.y_test)}\")"
   ]
  },
  {
   "cell_type": "markdown",
   "metadata": {},
   "source": [
    "### 3. Pipeline with Preprocessing and ML\n",
    "- Example of how preprocessors can be used with sklearn's Pipeline"
   ]
  },
  {
   "cell_type": "markdown",
   "metadata": {},
   "source": [
    "#### 3.1 Construct pipeline"
   ]
  },
  {
   "cell_type": "code",
   "execution_count": 7,
   "metadata": {},
   "outputs": [],
   "source": [
    "## Pipeline\n",
    "pipe = Pipeline([\n",
    "    ('fill missings',fill_missing(config={'count':0,'marital_status':'None'})),\n",
    "    ('prune features',prune_features(special_cols={'count':0})),\n",
    "    ('discretize counts', binary_discretizer(feature_tags_to_include= ['count'])),\n",
    "    ('discretize measurements', discretizer(feature_tags_to_include = ['measurement'])),\n",
    "    ('one hot encode', one_hot_encoder(feature_tags_to_exclude = ['count'])),\n",
    "    ('prediction model', rf(n_estimators=100, n_jobs=-1, class_weight='balanced', random_state = 44))\n",
    "    ])"
   ]
  },
  {
   "cell_type": "markdown",
   "metadata": {},
   "source": [
    "#### 3.2 Fit on train, test on validation set"
   ]
  },
  {
   "cell_type": "code",
   "execution_count": 8,
   "metadata": {},
   "outputs": [
    {
     "name": "stdout",
     "output_type": "stream",
     "text": [
      "AUROC: 0.83 \n",
      "\n"
     ]
    },
    {
     "data": {
      "image/png": "[encoded data removed]",
      "text/plain": [
       "<Figure size 432x288 with 2 Axes>"
      ]
     },
     "metadata": {
      "needs_background": "light"
     },
     "output_type": "display_data"
    }
   ],
   "source": [
    "pipe.fit(data.X_train, data.y_train)\n",
    "\n",
    "# Make prediction using pipeline\n",
    "y_score = pipe.predict_proba(data.X_val)\n",
    "\n",
    "## Results\n",
    "print('AUROC:',round(roc_auc_score(data.y_val, y_score[:,1]),2),'\\n')\n",
    "plot_confusion_matrix(pipe, data.X_val, data.y_val, cmap=plt.cm.Blues)\n",
    "plt.show()"
   ]
  },
  {
   "cell_type": "code",
   "execution_count": null,
   "metadata": {},
   "outputs": [],
   "source": []
  }
 ],
 "metadata": {
  "kernelspec": {
   "display_name": "Python 3",
   "language": "python",
   "name": "python3"
  },
  "language_info": {
   "codemirror_mode": {
    "name": "ipython",
    "version": 3
   },
   "file_extension": ".py",
   "mimetype": "text/x-python",
   "name": "python",
   "nbconvert_exporter": "python",
   "pygments_lexer": "ipython3",
   "version": "3.8.5"
  }
 },
 "nbformat": 4,
 "nbformat_minor": 4
}
