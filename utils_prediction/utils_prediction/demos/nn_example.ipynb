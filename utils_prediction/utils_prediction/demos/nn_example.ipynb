{
 "cells": [
  {
   "cell_type": "code",
   "execution_count": 1,
   "metadata": {},
   "outputs": [],
   "source": [
    "from utils_prediction.database import (gbq_connect, gbq_query)\n",
    "from utils_prediction.dataloader.mimic4 import dataloader\n",
    "from utils_prediction.preprocessor import (fill_missing,discretizer,binary_discretizer,one_hot_encoder,prune_features)\n",
    "\n",
    "from utils_prediction.nn.models import FixedWidthModel\n",
    "\n",
    "from sklearn.pipeline import Pipeline\n",
    "from sklearn.metrics import roc_auc_score, plot_confusion_matrix\n",
    "\n",
    "import os\n",
    "import pyarrow as pa\n",
    "import pyarrow.parquet as pq\n",
    "import matplotlib.pyplot as plt"
   ]
  },
  {
   "cell_type": "markdown",
   "metadata": {},
   "source": [
    "#### Get example features from GBQ and save to disk"
   ]
  },
  {
   "cell_type": "code",
   "execution_count": 2,
   "metadata": {},
   "outputs": [
    {
     "name": "stdout",
     "output_type": "stream",
     "text": [
      "Google Big Query Connection Established\n"
     ]
    }
   ],
   "source": [
    "## Establish connection with GBQ\n",
    "c = gbq_connect(\n",
    "    service_account_json_path = '/hpf/projects/lsung/creds/gbq/mimic.json', # change to your service account auth\n",
    "    project_id = 'mimic-iv-ches'\n",
    "    )\n",
    "\n",
    "## Grab example data\n",
    "df = gbq_query(c, \"\"\"\n",
    "    select * from `mimic-iv-ches.demo.mimic4_slice`\n",
    "    \"\"\", verbose = False)\n",
    "\n",
    "## Save to disk\n",
    "path = 'data/analysis_id=demo'\n",
    "\n",
    "if not os.path.exists(path): os.makedirs(path)\n",
    "\n",
    "pq.write_table(\n",
    "    pa.Table.from_pandas(df),\n",
    "    f\"{path}/features.parquet\"\n",
    "    )"
   ]
  },
  {
   "cell_type": "markdown",
   "metadata": {},
   "source": [
    "#### Load data & split into train,val,test"
   ]
  },
  {
   "cell_type": "code",
   "execution_count": 3,
   "metadata": {},
   "outputs": [],
   "source": [
    "data = dataloader(\n",
    "    analysis_id = 'demo',\n",
    "    features_fpath = 'data'\n",
    "    ).load_features()\n",
    "data = data.split()"
   ]
  },
  {
   "cell_type": "code",
   "execution_count": 4,
   "metadata": {},
   "outputs": [
    {
     "data": {
      "text/plain": [
       "(1400, 300, 300)"
      ]
     },
     "execution_count": 4,
     "metadata": {},
     "output_type": "execute_result"
    }
   ],
   "source": [
    "len(data.X_train), len(data.X_val), len(data.X_test)"
   ]
  },
  {
   "cell_type": "markdown",
   "metadata": {},
   "source": [
    "#### Preprocessing pipeline"
   ]
  },
  {
   "cell_type": "code",
   "execution_count": 5,
   "metadata": {},
   "outputs": [],
   "source": [
    "## Pipeline\n",
    "pipe = Pipeline([\n",
    "    ('fill missings',fill_missing(config={'count':0,'marital_status':'None'})),\n",
    "    ('prune features',prune_features(special_cols={'count':0})),\n",
    "    ('discretize counts', binary_discretizer(feature_tags_to_include= ['count'])),\n",
    "    ('discretize measurements', discretizer(feature_tags_to_include = ['measurement'])),\n",
    "    ('one hot encode', one_hot_encoder(feature_tags_to_exclude = ['count']))\n",
    "    ])"
   ]
  },
  {
   "cell_type": "markdown",
   "metadata": {},
   "source": [
    "#### Preprocess data"
   ]
  },
  {
   "cell_type": "code",
   "execution_count": 6,
   "metadata": {},
   "outputs": [],
   "source": [
    "data.X_train = pipe.fit_transform(data.X_train)\n",
    "data.X_val = pipe.transform(data.X_val)\n",
    "data.X_test = pipe.transform(data.X_test)"
   ]
  },
  {
   "cell_type": "markdown",
   "metadata": {},
   "source": [
    "#### Generate torch dataloaders"
   ]
  },
  {
   "cell_type": "code",
   "execution_count": 7,
   "metadata": {},
   "outputs": [],
   "source": [
    "loaders = data.to_torch()"
   ]
  },
  {
   "cell_type": "code",
   "execution_count": 8,
   "metadata": {},
   "outputs": [],
   "source": [
    "#next(iter(loaders['train']))"
   ]
  },
  {
   "cell_type": "markdown",
   "metadata": {},
   "source": [
    "#### Torch model"
   ]
  },
  {
   "cell_type": "code",
   "execution_count": 9,
   "metadata": {},
   "outputs": [
    {
     "name": "stdout",
     "output_type": "stream",
     "text": [
      "cpu\n"
     ]
    },
    {
     "name": "stderr",
     "output_type": "stream",
     "text": [
      "/hpf/projects/lsung/envs/anaconda/mimic4ds/lib/python3.8/site-packages/torch/cuda/__init__.py:52: UserWarning: CUDA initialization: Found no NVIDIA driver on your system. Please check that you have an NVIDIA GPU and installed a driver from http://www.nvidia.com/Download/index.aspx (Triggered internally at  /pytorch/c10/cuda/CUDAFunctions.cpp:100.)\n",
      "  return torch._C._cuda_getDeviceCount() > 0\n"
     ]
    }
   ],
   "source": [
    "m = FixedWidthModel(input_dim = next(iter(loaders['train']))['features'].shape[1])\n",
    "#m.model.parameters"
   ]
  },
  {
   "cell_type": "code",
   "execution_count": 10,
   "metadata": {},
   "outputs": [
    {
     "name": "stdout",
     "output_type": "stream",
     "text": [
      "Epoch 0/9\n",
      "----------\n",
      "Phase: train:\n",
      "            metric  performance\n",
      "0              auc     0.522115\n",
      "1            auprc     0.080049\n",
      "2            brier     0.130385\n",
      "3         loss_bce     0.428469\n",
      "4  specificity_0.5     0.912230\n",
      "5    precision_0.5     0.079681\n",
      "6       recall_0.5     0.094093\n",
      "0             loss     0.428469\n",
      "Phase: val:\n",
      "            metric  performance\n",
      "0              auc     0.626880\n",
      "1            auprc     0.207200\n",
      "2            brier     0.069916\n",
      "3         loss_bce     0.272492\n",
      "4  specificity_0.5     1.000000\n",
      "5    precision_0.5     0.000000\n",
      "6       recall_0.5     0.000000\n",
      "0             loss     0.272492\n",
      "Best model updated\n",
      "Epoch 1/9\n",
      "----------\n",
      "Phase: train:\n",
      "            metric  performance\n",
      "0              auc     0.624914\n",
      "1            auprc     0.118459\n",
      "2            brier     0.066705\n",
      "3         loss_bce     0.256275\n",
      "4  specificity_0.5     1.000000\n",
      "5    precision_0.5     0.000000\n",
      "6       recall_0.5     0.000000\n",
      "0             loss     0.256275\n",
      "Phase: val:\n",
      "            metric  performance\n",
      "0              auc     0.679856\n",
      "1            auprc     0.237772\n",
      "2            brier     0.065760\n",
      "3         loss_bce     0.248888\n",
      "4  specificity_0.5     1.000000\n",
      "5    precision_0.5     0.000000\n",
      "6       recall_0.5     0.000000\n",
      "0             loss     0.248888\n",
      "Best model updated\n",
      "Epoch 2/9\n",
      "----------\n",
      "Phase: train:\n",
      "            metric  performance\n",
      "0              auc     0.751096\n",
      "1            auprc     0.222950\n",
      "2            brier     0.065105\n",
      "3         loss_bce     0.243541\n",
      "4  specificity_0.5     1.000000\n",
      "5    precision_0.5     0.000000\n",
      "6       recall_0.5     0.000000\n",
      "0             loss     0.243541\n",
      "Phase: val:\n",
      "            metric  performance\n",
      "0              auc     0.728581\n",
      "1            auprc     0.224085\n",
      "2            brier     0.065102\n",
      "3         loss_bce     0.244226\n",
      "4  specificity_0.5     1.000000\n",
      "5    precision_0.5     0.000000\n",
      "6       recall_0.5     0.000000\n",
      "0             loss     0.244226\n",
      "Best model updated\n",
      "Epoch 3/9\n",
      "----------\n",
      "Phase: train:\n",
      "            metric  performance\n",
      "0              auc     0.808878\n",
      "1            auprc     0.315045\n",
      "2            brier     0.062393\n",
      "3         loss_bce     0.230567\n",
      "4  specificity_0.5     1.000000\n",
      "5    precision_0.5     0.000000\n",
      "6       recall_0.5     0.000000\n",
      "0             loss     0.230567\n",
      "Phase: val:\n",
      "            metric  performance\n",
      "0              auc     0.747384\n",
      "1            auprc     0.229026\n",
      "2            brier     0.064600\n",
      "3         loss_bce     0.240414\n",
      "4  specificity_0.5     1.000000\n",
      "5    precision_0.5     0.000000\n",
      "6       recall_0.5     0.000000\n",
      "0             loss     0.240414\n",
      "Best model updated\n",
      "Epoch 4/9\n",
      "----------\n",
      "Phase: train:\n",
      "            metric  performance\n",
      "0              auc     0.828867\n",
      "1            auprc     0.370015\n",
      "2            brier     0.060511\n",
      "3         loss_bce     0.221295\n",
      "4  specificity_0.5     1.000000\n",
      "5    precision_0.5     0.000000\n",
      "6       recall_0.5     0.000000\n",
      "0             loss     0.221295\n",
      "Phase: val:\n",
      "            metric  performance\n",
      "0              auc     0.763898\n",
      "1            auprc     0.218632\n",
      "2            brier     0.064136\n",
      "3         loss_bce     0.236733\n",
      "4  specificity_0.5     1.000000\n",
      "5    precision_0.5     0.000000\n",
      "6       recall_0.5     0.000000\n",
      "0             loss     0.236733\n",
      "Best model updated\n",
      "Epoch 5/9\n",
      "----------\n",
      "Phase: train:\n",
      "            metric  performance\n",
      "0              auc     0.843434\n",
      "1            auprc     0.419006\n",
      "2            brier     0.058300\n",
      "3         loss_bce     0.212033\n",
      "4  specificity_0.5     1.000000\n",
      "5    precision_0.5     1.000000\n",
      "6       recall_0.5     0.002136\n",
      "0             loss     0.212033\n",
      "Phase: val:\n",
      "            metric  performance\n",
      "0              auc     0.769621\n",
      "1            auprc     0.210397\n",
      "2            brier     0.063870\n",
      "3         loss_bce     0.234200\n",
      "4  specificity_0.5     1.000000\n",
      "5    precision_0.5     0.000000\n",
      "6       recall_0.5     0.000000\n",
      "0             loss     0.234200\n",
      "Best model updated\n",
      "Epoch 6/9\n",
      "----------\n",
      "Phase: train:\n",
      "            metric  performance\n",
      "0              auc     0.853537\n",
      "1            auprc     0.447663\n",
      "2            brier     0.057231\n",
      "3         loss_bce     0.207214\n",
      "4  specificity_0.5     1.000000\n",
      "5    precision_0.5     1.000000\n",
      "6       recall_0.5     0.014070\n",
      "0             loss     0.207214\n",
      "Phase: val:\n",
      "            metric  performance\n",
      "0              auc     0.777469\n",
      "1            auprc     0.210061\n",
      "2            brier     0.063670\n",
      "3         loss_bce     0.231519\n",
      "4  specificity_0.5     1.000000\n",
      "5    precision_0.5     0.000000\n",
      "6       recall_0.5     0.000000\n",
      "0             loss     0.231519\n",
      "Best model updated\n",
      "Epoch 7/9\n",
      "----------\n",
      "Phase: train:\n",
      "            metric  performance\n",
      "0              auc     0.847237\n",
      "1            auprc     0.430943\n",
      "2            brier     0.054095\n",
      "3         loss_bce     0.198247\n",
      "4  specificity_0.5     1.000000\n",
      "5    precision_0.5     1.000000\n",
      "6       recall_0.5     0.047201\n",
      "0             loss     0.198247\n",
      "Phase: val:\n",
      "            metric  performance\n",
      "0              auc     0.785971\n",
      "1            auprc     0.200521\n",
      "2            brier     0.063643\n",
      "3         loss_bce     0.229743\n",
      "4  specificity_0.5     1.000000\n",
      "5    precision_0.5     0.000000\n",
      "6       recall_0.5     0.000000\n",
      "0             loss     0.229743\n",
      "Best model updated\n",
      "Epoch 8/9\n",
      "----------\n",
      "Phase: train:\n",
      "            metric  performance\n",
      "0              auc     0.868326\n",
      "1            auprc     0.459911\n",
      "2            brier     0.052796\n",
      "3         loss_bce     0.191530\n",
      "4  specificity_0.5     1.000000\n",
      "5    precision_0.5     1.000000\n",
      "6       recall_0.5     0.088380\n",
      "0             loss     0.191530\n",
      "Phase: val:\n",
      "            metric  performance\n",
      "0              auc     0.782047\n",
      "1            auprc     0.195814\n",
      "2            brier     0.063852\n",
      "3         loss_bce     0.230371\n",
      "4  specificity_0.5     1.000000\n",
      "5    precision_0.5     0.000000\n",
      "6       recall_0.5     0.000000\n",
      "0             loss     0.230371\n",
      "Epoch 9/9\n",
      "----------\n",
      "Phase: train:\n",
      "            metric  performance\n",
      "0              auc     0.870932\n",
      "1            auprc     0.472338\n",
      "2            brier     0.052266\n",
      "3         loss_bce     0.189085\n",
      "4  specificity_0.5     0.999789\n",
      "5    precision_0.5     0.975728\n",
      "6       recall_0.5     0.108590\n",
      "0             loss     0.189085\n",
      "Phase: val:\n",
      "            metric  performance\n",
      "0              auc     0.780249\n",
      "1            auprc     0.201686\n",
      "2            brier     0.064014\n",
      "3         loss_bce     0.230662\n",
      "4  specificity_0.5     1.000000\n",
      "5    precision_0.5     0.000000\n",
      "6       recall_0.5     0.000000\n",
      "0             loss     0.230662\n",
      "Best performance: 0.229743\n"
     ]
    },
    {
     "data": {
      "text/plain": [
       "{'performance':      phase  epoch           metric  performance\n",
       " 0    train      0              auc     0.522115\n",
       " 1    train      0            auprc     0.080049\n",
       " 2    train      0            brier     0.130385\n",
       " 3    train      0         loss_bce     0.428469\n",
       " 4    train      0  specificity_0.5     0.912230\n",
       " ..     ...    ...              ...          ...\n",
       " 155    val      9         loss_bce     0.230662\n",
       " 156    val      9  specificity_0.5     1.000000\n",
       " 157    val      9    precision_0.5     0.000000\n",
       " 158    val      9       recall_0.5     0.000000\n",
       " 159    val      9             loss     0.230662\n",
       " \n",
       " [160 rows x 4 columns]}"
      ]
     },
     "execution_count": 10,
     "metadata": {},
     "output_type": "execute_result"
    }
   ],
   "source": [
    "m.train(loaders,phases=['train','val'])"
   ]
  },
  {
   "cell_type": "code",
   "execution_count": null,
   "metadata": {},
   "outputs": [],
   "source": []
  }
 ],
 "metadata": {
  "kernelspec": {
   "display_name": "Python 3",
   "language": "python",
   "name": "python3"
  },
  "language_info": {
   "codemirror_mode": {
    "name": "ipython",
    "version": 3
   },
   "file_extension": ".py",
   "mimetype": "text/x-python",
   "name": "python",
   "nbconvert_exporter": "python",
   "pygments_lexer": "ipython3",
   "version": "3.8.10"
  }
 },
 "nbformat": 4,
 "nbformat_minor": 4
}
